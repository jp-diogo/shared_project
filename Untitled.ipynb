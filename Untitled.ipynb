{
 "cells": [
  {
   "cell_type": "code",
   "execution_count": 1,
   "id": "2f71968b-7c48-45e8-8b3e-2b7f70a7d96b",
   "metadata": {},
   "outputs": [],
   "source": [
    "%load_ext autoreload\n",
    "%autoreload 2 "
   ]
  },
  {
   "cell_type": "code",
   "execution_count": 2,
   "id": "22ac2995-c051-45a1-8780-f8fc8d554065",
   "metadata": {},
   "outputs": [],
   "source": [
    "from shared_project.lib import try_me"
   ]
  },
  {
   "cell_type": "code",
   "execution_count": 3,
   "id": "1d756142-3502-427c-ade3-6383a7064162",
   "metadata": {},
   "outputs": [
    {
     "ename": "SyntaxError",
     "evalue": "'return' outside function (2581800413.py, line 12)",
     "output_type": "error",
     "traceback": [
      "\u001b[0;36m  File \u001b[0;32m\"/var/folders/cd/y8hw_jgx32x419vml928xr7w0000gn/T/ipykernel_10814/2581800413.py\"\u001b[0;36m, line \u001b[0;32m12\u001b[0m\n\u001b[0;31m    return result\u001b[0m\n\u001b[0m    ^\u001b[0m\n\u001b[0;31mSyntaxError\u001b[0m\u001b[0;31m:\u001b[0m 'return' outside function\n"
     ]
    }
   ],
   "source": [
    "    num1=6\n",
    "    num2=3\n",
    "    operation='-'\n",
    "    if operation == '-':\n",
    "        result = num1 - num2\n",
    "    elif operation == '/':\n",
    "        result = num1 / num2\n",
    "    elif operation == '*':\n",
    "            result = num1 * num2\n",
    "    else:\n",
    "        result = num1 + num2\n",
    "    return result"
   ]
  },
  {
   "cell_type": "code",
   "execution_count": 4,
   "id": "5bac39da-fa29-4bd0-b6b4-61ced85371e8",
   "metadata": {},
   "outputs": [
    {
     "data": {
      "text/plain": [
       "-3"
      ]
     },
     "execution_count": 4,
     "metadata": {},
     "output_type": "execute_result"
    }
   ],
   "source": [
    "try_me(3,6,'-')"
   ]
  },
  {
   "cell_type": "code",
   "execution_count": 5,
   "id": "2db1bdda-ecd5-4c0a-be60-985c564becec",
   "metadata": {},
   "outputs": [
    {
     "data": {
      "text/plain": [
       "9"
      ]
     },
     "execution_count": 5,
     "metadata": {},
     "output_type": "execute_result"
    }
   ],
   "source": [
    "try_me()"
   ]
  },
  {
   "cell_type": "code",
   "execution_count": null,
   "id": "41c4d642-a7b6-4aa2-a35e-13ff0bd9783a",
   "metadata": {},
   "outputs": [],
   "source": []
  }
 ],
 "metadata": {
  "kernelspec": {
   "display_name": "Python 3 (ipykernel)",
   "language": "python",
   "name": "python3"
  },
  "language_info": {
   "codemirror_mode": {
    "name": "ipython",
    "version": 3
   },
   "file_extension": ".py",
   "mimetype": "text/x-python",
   "name": "python",
   "nbconvert_exporter": "python",
   "pygments_lexer": "ipython3",
   "version": "3.8.12"
  }
 },
 "nbformat": 4,
 "nbformat_minor": 5
}
